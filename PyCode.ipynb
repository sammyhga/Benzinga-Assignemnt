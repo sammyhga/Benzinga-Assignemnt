{
 "cells": [
  {
   "cell_type": "code",
   "execution_count": null,
   "id": "d968de19-2ba0-4fbb-b198-78b8b5305d95",
   "metadata": {},
   "outputs": [],
   "source": [
    "import pandas as pd\n",
    "import numpy as np\n",
    "from random import randint as rand\n",
    "import matplotlib.pyplot as plt"
   ]
  },
  {
   "cell_type": "code",
   "execution_count": null,
   "id": "1f36266b-0689-46e8-b2ad-0bfef4e86460",
   "metadata": {},
   "outputs": [],
   "source": [
    "df=pd.read_csv(\"apple_price_history.csv\")"
   ]
  },
  {
   "cell_type": "code",
   "execution_count": null,
   "id": "5e1e373f-729e-402d-abe3-94a30ea10837",
   "metadata": {},
   "outputs": [],
   "source": [
    "#User enters two dates\n",
    "date1 = input(\"Enter 1st Date in format Y-M-D:\")\n",
    "date2 = input(\"Enter 2nd Date in format Y-M-D:\") "
   ]
  },
  {
   "cell_type": "code",
   "execution_count": null,
   "id": "fc1aa7d1-b978-4f5c-af30-3fcbe5e2b08f",
   "metadata": {},
   "outputs": [],
   "source": [
    "new_date = list(df['dateTime'].str.slice(0,10)) #Slice date column to only show the first 10 charachers and then create a list \n",
    "\n",
    "df['newDate'] = new_date #Add date list to df dataframe\n",
    "\n",
    "#Find index position for day1 and day2\n",
    "date1_index= new_date.index(date1)\n",
    "date2_index= new_date.index(date2)"
   ]
  },
  {
   "cell_type": "code",
   "execution_count": null,
   "id": "27f91d7d-b117-4cfb-a1b8-f5434b13eb11",
   "metadata": {},
   "outputs": [],
   "source": [
    "#Select low and high price for date1\n",
    "low_date1 = df.iloc[date1_index,2]\n",
    "high_date1 = df.iloc[date1_index,1]\n",
    "\n",
    "#Select low and high price for date2\n",
    "low_date2 = df.iloc[date2_index,2]\n",
    "high_date2 = df.iloc[date2_index,1]\n",
    "\n",
    "#Create dataframe for the dates, containing low and high price\n",
    "data2 = pd.DataFrame({\n",
    "    'date': [date1,date2],\n",
    "    'low': [low_date1, low_date2],\n",
    "    'high': [high_date1,high_date2]\n",
    "})"
   ]
  },
  {
   "cell_type": "code",
   "execution_count": null,
   "id": "e97e9920-02f3-425d-84e5-4a3d0b06a2ac",
   "metadata": {},
   "outputs": [],
   "source": [
    "#Creating a bargraph\n",
    "width = 0.35\n",
    "price = ['low', 'high']\n",
    "index = np.arange(len(price))\n",
    "price_label = np.arange(0,200, 20)\n",
    "\n",
    "fig, ax = plt.subplots()\n",
    "barlow = ax.bar(index-width/2, data2['low'], width, label = 'low')\n",
    "barhigh = ax.bar(index + width/2, data2['high'], width, label = 'high')\n",
    "ax.set_title ('Highest and lowest prices of Apple stock (AAPL)')\n",
    "#Display value on bargraph\n",
    "ax.bar_label(barlow, padding=3)\n",
    "ax.bar_label(barhigh, padding=3)\n",
    "\n",
    "#Show dates on x-axis\n",
    "ax.set_xticks(index)\n",
    "ax.set_xticklabels (data2['date'])\n",
    "\n",
    "#Show price on y-axis\n",
    "ax.set_yticks (price_label)\n",
    "\n",
    "ax.legend()\n",
    "fig.tight_layout()\n",
    "plt.show()\n",
    "\n",
    "print('The Lowest price for Apple stock (AAPL) on', date1, 'was:',low_date1,\n",
    "      '\\nThe Highest price for Apple stock (AAPL) on', date1, 'was:',high_date1,\n",
    "     '\\nThe Lowest price for Apple stock (AAPL) on', date2, 'was:',low_date2,\n",
    "     '\\nThe Highest price for Apple stock (AAPL) on', date2, 'was:',high_date2)"
   ]
  },
  {
   "cell_type": "code",
   "execution_count": null,
   "id": "27aca832-7bff-466c-b8e5-af627934f87b",
   "metadata": {},
   "outputs": [],
   "source": []
  }
 ],
 "metadata": {
  "kernelspec": {
   "display_name": "Python 3 (ipykernel)",
   "language": "python",
   "name": "python3"
  },
  "language_info": {
   "codemirror_mode": {
    "name": "ipython",
    "version": 3
   },
   "file_extension": ".py",
   "mimetype": "text/x-python",
   "name": "python",
   "nbconvert_exporter": "python",
   "pygments_lexer": "ipython3",
   "version": "3.9.13"
  }
 },
 "nbformat": 4,
 "nbformat_minor": 5
}
